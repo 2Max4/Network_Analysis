{
 "cells": [
  {
   "cell_type": "code",
   "execution_count": 1,
   "metadata": {
    "pycharm": {
     "is_executing": false
    }
   },
   "outputs": [],
   "source": [
    "from pythonping import ping\n",
    "import pandas as pd\n",
    "import time, os, signal\n",
    "import seaborn as sns\n"
   ]
  },
  {
   "cell_type": "code",
   "execution_count": 2,
   "metadata": {
    "pycharm": {
     "is_executing": false
    }
   },
   "outputs": [],
   "source": [
    "# User defines webpage and interval\n",
    "url = input(\"Please enter the URL: \")\n",
    "interval = int(input(\"How long should the interval of queries be (in seconds)? \"))\n",
    "file_name = \"ping_test.csv\"\n",
    "direc = \"../Data\"\n",
    "file_path = direc+\"/\"+file_name"
   ]
  },
  {
   "cell_type": "code",
   "execution_count": 3,
   "metadata": {
    "pycharm": {
     "is_executing": false
    }
   },
   "outputs": [],
   "source": [
    "if not \"ping_test.csv\" in os.listdir(\"./\"+direc):\n",
    "    df_my_ping = pd.DataFrame(columns=[\"date\", \"min\", \"max\", \"avg\", \"url\"])\n",
    "else:\n",
    "    df_my_ping = pd.read_csv(file_path, index_col=0)"
   ]
  },
  {
   "cell_type": "code",
   "execution_count": 4,
   "metadata": {
    "pycharm": {
     "is_executing": false
    }
   },
   "outputs": [],
   "source": [
    "def get_ping_as_df(url):\n",
    "    my_ping = ping(url)\n",
    "    return pd.DataFrame({\"date\":[time.strftime(\"%d.%m.%Y %H:%M:%S\",time.localtime())],\n",
    "                        \"min\":[my_ping.rtt_min_ms],\n",
    "                        \"max\": [my_ping.rtt_max_ms],\n",
    "                        \"avg\":[my_ping.rtt_avg_ms],\n",
    "                        \"url\":[url]})"
   ]
  },
  {
   "cell_type": "code",
   "execution_count": 5,
   "metadata": {
    "pycharm": {
     "is_executing": false
    }
   },
   "outputs": [],
   "source": [
    "# Function gets executed when keyboard interrupt occures\n",
    "def keyboardInterruptHandler(signal, frame):\n",
    "    print(\"Keyboard interrupt - saving files to ping_test.csv.\")\n",
    "    df_my_ping.to_csv(file_path)"
   ]
  },
  {
   "cell_type": "code",
   "execution_count": null,
   "metadata": {
    "pycharm": {
     "is_executing": true
    }
   },
   "outputs": [
    {
     "name": "stdout",
     "output_type": "stream",
     "text": [
      "#### Currently analyzing the network ####\n",
      "Keyboard interrupt - saving files to ping_test.csv.\n",
      "Keyboard interrupt - saving files to ping_test.csv.\n"
     ]
    }
   ],
   "source": [
    "# Execution of infinit loop and catch if keyboard interrupts --> afterwarts persistent storage as csv\n",
    "signal.signal(signal.SIGINT, keyboardInterruptHandler)\n",
    "\n",
    "print(\"#### Currently analyzing the network ####\")\n",
    "while True:\n",
    "    test_result = get_ping_as_df(url)\n",
    "    if test_result[\"max\"]>10:\n",
    "        # at this point it needs to make a speedcheck!\n",
    "    df_my_ping = df_my_ping.append(test_result, ignore_index=True)\n",
    "    if int(time.strftime(\"%M\", time.localtime()))%10 == 0:\n",
    "        df_my_ping.to_csv(file_path)\n",
    "    time.sleep(interval)\n"
   ]
  },
  {
   "cell_type": "code",
   "execution_count": null,
   "metadata": {
    "pycharm": {
     "is_executing": true
    }
   },
   "outputs": [],
   "source": [
    "# Transform all dates to datetime format\n",
    "df_my_ping[\"date\"] = pd.to_datetime(df_my_ping[\"date\"])"
   ]
  },
  {
   "cell_type": "code",
   "execution_count": null,
   "metadata": {
    "pycharm": {
     "is_executing": true
    }
   },
   "outputs": [],
   "source": [
    "df_my_ping.shape"
   ]
  },
  {
   "cell_type": "code",
   "execution_count": null,
   "metadata": {
    "pycharm": {
     "is_executing": true
    }
   },
   "outputs": [],
   "source": [
    "sns.lineplot(x=df_my_ping[\"date\"], y=df_my_ping[\"avg\"])"
   ]
  },
  {
   "cell_type": "code",
   "execution_count": null,
   "metadata": {
    "pycharm": {
     "is_executing": true
    }
   },
   "outputs": [],
   "source": [
    "df_my_ping.groupby(df_my_ping.date.dt.hour).mean()"
   ]
  },
  {
   "cell_type": "code",
   "execution_count": null,
   "metadata": {
    "pycharm": {
     "name": "#%%\n"
    }
   },
   "outputs": [],
   "source": [
    "\n"
   ]
  }
 ],
 "metadata": {
  "kernelspec": {
   "display_name": "Python 3",
   "language": "python",
   "name": "python3"
  },
  "language_info": {
   "codemirror_mode": {
    "name": "ipython",
    "version": 3
   },
   "file_extension": ".py",
   "mimetype": "text/x-python",
   "name": "python",
   "nbconvert_exporter": "python",
   "pygments_lexer": "ipython3",
   "version": "3.6.8"
  },
  "pycharm": {
   "stem_cell": {
    "cell_type": "raw",
    "metadata": {
     "collapsed": false
    },
    "source": []
   }
  },
  "toc": {
   "base_numbering": 1,
   "nav_menu": {},
   "number_sections": true,
   "sideBar": true,
   "skip_h1_title": false,
   "title_cell": "Table of Contents",
   "title_sidebar": "Contents",
   "toc_cell": false,
   "toc_position": {},
   "toc_section_display": true,
   "toc_window_display": false
  }
 },
 "nbformat": 4,
 "nbformat_minor": 2
}
