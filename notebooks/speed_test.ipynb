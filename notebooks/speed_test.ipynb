{
 "cells": [
  {
   "cell_type": "code",
   "execution_count": 1,
   "metadata": {
    "pycharm": {
     "is_executing": false,
     "name": "#%%\n"
    }
   },
   "outputs": [],
   "source": [
    "# Import necessary dependencies, libs etc.\n",
    "import speedtest\n",
    "import pandas as pd\n",
    "import time, os\n",
    "import json"
   ]
  },
  {
   "cell_type": "code",
   "execution_count": 2,
   "metadata": {
    "pycharm": {
     "is_executing": false,
     "name": "#%%\n"
    }
   },
   "outputs": [],
   "source": [
    "# Request capacity type in thread numbers, set file_name and directory\n",
    "threads = int(input(\"How many threads would you like to work against? (rec. 1)\"))\n",
    "file_name = \"speedtest.csv\"\n",
    "direc = \"../Data\"\n",
    "file_path = direc+\"/\"+file_name"
   ]
  },
  {
   "cell_type": "code",
   "execution_count": 3,
   "metadata": {
    "pycharm": {
     "is_executing": false,
     "name": "#%%\n"
    }
   },
   "outputs": [],
   "source": [
    "# Check if file already exists, create dataframe\n",
    "if not \"speedtest.csv\" in os.listdir(\"./\"+direc):\n",
    "    df_my_speed = pd.DataFrame(columns=[\"date\", \"ping\", \"downstream\", \"upstream\", \"serverState\", \"sponsor\", \"your_isp\"])\n",
    "else:\n",
    "    df_my_speed = pd.read_csv(file_path, index_col=0)"
   ]
  },
  {
   "cell_type": "code",
   "execution_count": 4,
   "metadata": {
    "pycharm": {
     "is_executing": false,
     "name": "#%%\n"
    }
   },
   "outputs": [],
   "source": [
    "# Main-Part of speedcheck, take standard values, find best server (would be changeable to) and convert up/downstream\n",
    "def get_speedresults_as_df(threads):\n",
    "    s = speedtest.Speedtest()\n",
    "    s.get_servers()\n",
    "    s.get_best_server()\n",
    "    s.download(threads=threads)\n",
    "    s.upload(threads=threads)\n",
    "    results_dict = s.results.dict()\n",
    "\n",
    "    # Taking relevant values out results_dict{}\n",
    "    ping = int(results_dict[\"ping\"])\n",
    "    downstream = int(results_dict[\"download\"])/1024\n",
    "    upstream = int(results_dict[\"upload\"])/1024\n",
    "    serverState = results_dict[\"server\"][\"country\"]\n",
    "    sponsor = results_dict[\"server\"][\"sponsor\"]\n",
    "    your_isp = results_dict[\"client\"][\"isp\"]\n",
    "\n",
    "    # Return DataFrame filled by up/downstream, adress and create timestamp\n",
    "    return pd.DataFrame({\"date\": [time.strftime(\"%d.%m.%Y %H:%M:%S\",\n",
    "                                                time.localtime())],\n",
    "                         \"ping\": [ping],\n",
    "                         \"downstream\": [downstream],\n",
    "                         \"upstream\": [upstream],\n",
    "                         \"adress\": [serverState],\n",
    "                         \"sponsor\": [sponsor],\n",
    "                         \"your_isp\": [your_isp]})"
   ]
  },
  {
   "cell_type": "code",
   "execution_count": 5,
   "metadata": {
    "pycharm": {
     "is_executing": false,
     "name": "#%%\n"
    }
   },
   "outputs": [
    {
     "name": "stdout",
     "output_type": "stream",
     "text": [
      "                  date  ping    downstream      upstream   adress   sponsor  \\\n",
      "0  29.09.2019 18:02:20     8  56929.063477  10619.995117  Germany  LeaseWeb   \n",
      "\n",
      "              your_isp  \n",
      "0  Deutsche Telekom AG  \n"
     ]
    }
   ],
   "source": [
    "# Execute speedtest and save results\n",
    "#df_my_speed = df_my_speed.append(get_speedresults_as_df(threads), ignore_index=True)\n",
    "df_my_speed = get_speedresults_as_df(threads)\n",
    "df_my_speed.to_csv(file_path)\n",
    "print(df_my_speed)"
   ]
  },
  {
   "cell_type": "code",
   "execution_count": null,
   "metadata": {
    "pycharm": {
     "name": "#%%\n"
    }
   },
   "outputs": [],
   "source": []
  },
  {
   "cell_type": "code",
   "execution_count": null,
   "metadata": {
    "pycharm": {
     "name": "#%%\n"
    }
   },
   "outputs": [],
   "source": [
    "df_my_speed.head()\n"
   ]
  },
  {
   "cell_type": "code",
   "execution_count": null,
   "metadata": {
    "collapsed": true
   },
   "outputs": [],
   "source": [
    "\n"
   ]
  }
 ],
 "metadata": {
  "kernelspec": {
   "display_name": "Python 3",
   "language": "python",
   "name": "python3"
  },
  "language_info": {
   "codemirror_mode": {
    "name": "ipython",
    "version": 3
   },
   "file_extension": ".py",
   "mimetype": "text/x-python",
   "name": "python",
   "nbconvert_exporter": "python",
   "pygments_lexer": "ipython3",
   "version": "3.7.1"
  },
  "pycharm": {
   "stem_cell": {
    "cell_type": "raw",
    "metadata": {
     "collapsed": false
    },
    "source": []
   }
  },
  "toc": {
   "base_numbering": 1,
   "nav_menu": {},
   "number_sections": true,
   "sideBar": true,
   "skip_h1_title": false,
   "title_cell": "Table of Contents",
   "title_sidebar": "Contents",
   "toc_cell": false,
   "toc_position": {},
   "toc_section_display": true,
   "toc_window_display": false
  }
 },
 "nbformat": 4,
 "nbformat_minor": 1
}
