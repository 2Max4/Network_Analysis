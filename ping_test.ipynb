{
 "cells": [
  {
   "cell_type": "code",
   "execution_count": 42,
   "metadata": {},
   "outputs": [],
   "source": [
    "from pythonping import ping\n",
    "import pandas as pd\n",
    "import time, os\n",
    "import seaborn as sns"
   ]
  },
  {
   "cell_type": "code",
   "execution_count": 52,
   "metadata": {},
   "outputs": [
    {
     "name": "stdout",
     "output_type": "stream",
     "text": [
      "Bitte geben Sie die URL ein: www.google.com\n",
      "Wie lange soll das Intervall der Abfragen sein (in Sekunden)? 5\n"
     ]
    }
   ],
   "source": [
    "url = input(\"Bitte geben Sie die URL ein: \")\n",
    "interval = int(input(\"Wie lange soll das Intervall der Abfragen sein (in Sekunden)? \"))\n",
    "file_name = \"ping_test.csv\"\n",
    "direc = \"Data\"\n",
    "file_path = direc+\"/\"+file_name"
   ]
  },
  {
   "cell_type": "code",
   "execution_count": 33,
   "metadata": {},
   "outputs": [],
   "source": [
    "if not \"ping_test.csv\" in os.listdir(\"./\"+direc):\n",
    "    df_my_ping = pd.DataFrame(columns=[\"date\", \"min\", \"max\", \"avg\", \"url\"])\n",
    "else:\n",
    "    df_my_ping = pd.read_csv(file_path, index_col=0)"
   ]
  },
  {
   "cell_type": "code",
   "execution_count": 34,
   "metadata": {},
   "outputs": [],
   "source": [
    "def get_ping_as_df(url):\n",
    "    my_ping = ping(url)\n",
    "    return pd.DataFrame({\"date\":[time.strftime(\"%d.%m.%Y %H:%M:%S\",time.localtime())],\n",
    "                        \"min\":[my_ping.rtt_min_ms],\n",
    "                        \"max\": [my_ping.rtt_max_ms],\n",
    "                        \"avg\":[my_ping.rtt_avg_ms],\n",
    "                        \"url\":[url]})"
   ]
  },
  {
   "cell_type": "code",
   "execution_count": 53,
   "metadata": {},
   "outputs": [
    {
     "name": "stdout",
     "output_type": "stream",
     "text": [
      "Keyboard interrupt - saving files to ping_test.csv.\n"
     ]
    }
   ],
   "source": [
    "# Ausführen in Infinit Loop und Catchen bei Keyboard Interrupt --> Dann persistent speichern\n",
    "# Ausserdem alle 10 Minuten als csv file speichern.\n",
    "try:\n",
    "    while True:\n",
    "        df_my_ping = df_my_ping.append(get_ping_as_df(url), ignore_index=True)\n",
    "        if int(time.strftime(\"%M\", time.localtime()))%10 == 0:\n",
    "            df_my_ping.to_csv(file_path)\n",
    "        time.sleep(interval)\n",
    "except KeyboardInterrupt:\n",
    "    print(\"Keyboard interrupt - saving files to ping_test.csv.\")\n",
    "    df_my_ping.to_csv(file_path)\n",
    "            "
   ]
  },
  {
   "cell_type": "code",
   "execution_count": 38,
   "metadata": {},
   "outputs": [],
   "source": [
    "# Umwandeln aller Dates in das Format Datetime\n",
    "df_my_ping[\"date\"] = pd.to_datetime(df_my_ping[\"date\"])"
   ]
  },
  {
   "cell_type": "code",
   "execution_count": 41,
   "metadata": {},
   "outputs": [
    {
     "data": {
      "text/plain": [
       "<matplotlib.axes._subplots.AxesSubplot at 0x1daa4f6d080>"
      ]
     },
     "execution_count": 41,
     "metadata": {},
     "output_type": "execute_result"
    },
    {
     "data": {
      "image/png": "[encoded data removed]",
      "text/plain": [
       "<Figure size 432x288 with 1 Axes>"
      ]
     },
     "metadata": {
      "needs_background": "light"
     },
     "output_type": "display_data"
    }
   ],
   "source": [
    "sns.lineplot(x=df_my_ping[\"date\"], y=df_my_ping[\"avg\"])"
   ]
  },
  {
   "cell_type": "code",
   "execution_count": null,
   "metadata": {},
   "outputs": [],
   "source": []
  }
 ],
 "metadata": {
  "kernelspec": {
   "display_name": "Python 3",
   "language": "python",
   "name": "python3"
  },
  "language_info": {
   "codemirror_mode": {
    "name": "ipython",
    "version": 3
   },
   "file_extension": ".py",
   "mimetype": "text/x-python",
   "name": "python",
   "nbconvert_exporter": "python",
   "pygments_lexer": "ipython3",
   "version": "3.7.1"
  },
  "toc": {
   "base_numbering": 1,
   "nav_menu": {},
   "number_sections": true,
   "sideBar": true,
   "skip_h1_title": false,
   "title_cell": "Table of Contents",
   "title_sidebar": "Contents",
   "toc_cell": false,
   "toc_position": {},
   "toc_section_display": true,
   "toc_window_display": false
  }
 },
 "nbformat": 4,
 "nbformat_minor": 2
}
