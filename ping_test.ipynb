{
 "cells": [
  {
   "cell_type": "code",
   "execution_count": 1,
   "metadata": {},
   "outputs": [],
   "source": [
    "from pythonping import ping\n",
    "import pandas as pd\n",
    "import time, os\n",
    "import seaborn as sns"
   ]
  },
  {
   "cell_type": "code",
   "execution_count": 3,
   "metadata": {},
   "outputs": [
    {
     "name": "stdout",
     "output_type": "stream",
     "text": [
      "Bitte geben Sie die URL ein: www.google.com\n",
      "Wie lange soll das Intervall der Abfragen sein (in Sekunden)? 5\n"
     ]
    }
   ],
   "source": [
    "# User defines webpage and interval\n",
    "url = input(\"Bitte geben Sie die URL ein: \")\n",
    "interval = int(input(\"Wie lange soll das Intervall der Abfragen sein (in Sekunden)? \"))\n",
    "file_name = \"ping_test.csv\"\n",
    "direc = \"Data\"\n",
    "file_path = direc+\"/\"+file_name"
   ]
  },
  {
   "cell_type": "code",
   "execution_count": 4,
   "metadata": {},
   "outputs": [],
   "source": [
    "if not \"ping_test.csv\" in os.listdir(\"./\"+direc):\n",
    "    df_my_ping = pd.DataFrame(columns=[\"date\", \"min\", \"max\", \"avg\", \"url\"])\n",
    "else:\n",
    "    df_my_ping = pd.read_csv(file_path, index_col=0)"
   ]
  },
  {
   "cell_type": "code",
   "execution_count": 34,
   "metadata": {},
   "outputs": [],
   "source": [
    "def get_ping_as_df(url):\n",
    "    my_ping = ping(url)\n",
    "    return pd.DataFrame({\"date\":[time.strftime(\"%d.%m.%Y %H:%M:%S\",time.localtime())],\n",
    "                        \"min\":[my_ping.rtt_min_ms],\n",
    "                        \"max\": [my_ping.rtt_max_ms],\n",
    "                        \"avg\":[my_ping.rtt_avg_ms],\n",
    "                        \"url\":[url]})"
   ]
  },
  {
   "cell_type": "code",
   "execution_count": 53,
   "metadata": {},
   "outputs": [
    {
     "name": "stdout",
     "output_type": "stream",
     "text": [
      "Keyboard interrupt - saving files to ping_test.csv.\n"
     ]
    }
   ],
   "source": [
    "# Execution of infinit loop and catch if keyboard interrupts --> afterwarts persistent storage as csv\n",
    "try:\n",
    "    while True:\n",
    "        df_my_ping = df_my_ping.append(get_ping_as_df(url), ignore_index=True)\n",
    "        if int(time.strftime(\"%M\", time.localtime()))%10 == 0:\n",
    "            df_my_ping.to_csv(file_path)\n",
    "        time.sleep(interval)\n",
    "except KeyboardInterrupt:\n",
    "    print(\"Keyboard interrupt - saving files to ping_test.csv.\")\n",
    "    df_my_ping.to_csv(file_path)\n",
    "            "
   ]
  },
  {
   "cell_type": "code",
   "execution_count": 5,
   "metadata": {},
   "outputs": [],
   "source": [
    "# Transform all dates to datetime format\n",
    "df_my_ping[\"date\"] = pd.to_datetime(df_my_ping[\"date\"])"
   ]
  },
  {
   "cell_type": "code",
   "execution_count": 6,
   "metadata": {},
   "outputs": [
    {
     "data": {
      "text/plain": [
       "<matplotlib.axes._subplots.AxesSubplot at 0x1dd205a8be0>"
      ]
     },
     "execution_count": 6,
     "metadata": {},
     "output_type": "execute_result"
    },
    {
     "data": {
      "image/png": "[encoded data removed]",
      "text/plain": [
       "<Figure size 432x288 with 1 Axes>"
      ]
     },
     "metadata": {
      "needs_background": "light"
     },
     "output_type": "display_data"
    }
   ],
   "source": [
    "sns.lineplot(x=df_my_ping[\"date\"], y=df_my_ping[\"avg\"])"
   ]
  },
  {
   "cell_type": "code",
   "execution_count": 10,
   "metadata": {},
   "outputs": [
    {
     "data": {
      "text/html": [
       "<div>\n",
       "<style scoped>\n",
       "    .dataframe tbody tr th:only-of-type {\n",
       "        vertical-align: middle;\n",
       "    }\n",
       "\n",
       "    .dataframe tbody tr th {\n",
       "        vertical-align: top;\n",
       "    }\n",
       "\n",
       "    .dataframe thead th {\n",
       "        text-align: right;\n",
       "    }\n",
       "</style>\n",
       "<table border=\"1\" class=\"dataframe\">\n",
       "  <thead>\n",
       "    <tr style=\"text-align: right;\">\n",
       "      <th></th>\n",
       "      <th>min</th>\n",
       "      <th>max</th>\n",
       "      <th>avg</th>\n",
       "    </tr>\n",
       "    <tr>\n",
       "      <th>date</th>\n",
       "      <th></th>\n",
       "      <th></th>\n",
       "      <th></th>\n",
       "    </tr>\n",
       "  </thead>\n",
       "  <tbody>\n",
       "    <tr>\n",
       "      <th>6</th>\n",
       "      <td>21.426667</td>\n",
       "      <td>24.853333</td>\n",
       "      <td>22.893333</td>\n",
       "    </tr>\n",
       "    <tr>\n",
       "      <th>8</th>\n",
       "      <td>21.710000</td>\n",
       "      <td>31.160000</td>\n",
       "      <td>27.590000</td>\n",
       "    </tr>\n",
       "    <tr>\n",
       "      <th>9</th>\n",
       "      <td>21.725000</td>\n",
       "      <td>25.955000</td>\n",
       "      <td>23.520000</td>\n",
       "    </tr>\n",
       "    <tr>\n",
       "      <th>13</th>\n",
       "      <td>23.746667</td>\n",
       "      <td>30.786667</td>\n",
       "      <td>27.403333</td>\n",
       "    </tr>\n",
       "    <tr>\n",
       "      <th>14</th>\n",
       "      <td>21.860000</td>\n",
       "      <td>31.980000</td>\n",
       "      <td>27.420000</td>\n",
       "    </tr>\n",
       "    <tr>\n",
       "      <th>56</th>\n",
       "      <td>21.571500</td>\n",
       "      <td>32.892500</td>\n",
       "      <td>26.984500</td>\n",
       "    </tr>\n",
       "    <tr>\n",
       "      <th>57</th>\n",
       "      <td>22.130909</td>\n",
       "      <td>26.587273</td>\n",
       "      <td>24.126364</td>\n",
       "    </tr>\n",
       "  </tbody>\n",
       "</table>\n",
       "</div>"
      ],
      "text/plain": [
       "            min        max        avg\n",
       "date                                 \n",
       "6     21.426667  24.853333  22.893333\n",
       "8     21.710000  31.160000  27.590000\n",
       "9     21.725000  25.955000  23.520000\n",
       "13    23.746667  30.786667  27.403333\n",
       "14    21.860000  31.980000  27.420000\n",
       "56    21.571500  32.892500  26.984500\n",
       "57    22.130909  26.587273  24.126364"
      ]
     },
     "execution_count": 10,
     "metadata": {},
     "output_type": "execute_result"
    }
   ],
   "source": [
    "df_my_ping.groupby(df_my_ping.date.dt.minute).mean()"
   ]
  },
  {
   "cell_type": "code",
   "execution_count": null,
   "metadata": {},
   "outputs": [],
   "source": []
  }
 ],
 "metadata": {
  "kernelspec": {
   "display_name": "Python 3",
   "language": "python",
   "name": "python3"
  },
  "language_info": {
   "codemirror_mode": {
    "name": "ipython",
    "version": 3
   },
   "file_extension": ".py",
   "mimetype": "text/x-python",
   "name": "python",
   "nbconvert_exporter": "python",
   "pygments_lexer": "ipython3",
   "version": "3.7.1"
  },
  "toc": {
   "base_numbering": 1,
   "nav_menu": {},
   "number_sections": true,
   "sideBar": true,
   "skip_h1_title": false,
   "title_cell": "Table of Contents",
   "title_sidebar": "Contents",
   "toc_cell": false,
   "toc_position": {},
   "toc_section_display": true,
   "toc_window_display": false
  }
 },
 "nbformat": 4,
 "nbformat_minor": 2
}
