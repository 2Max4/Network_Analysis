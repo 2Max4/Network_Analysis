{
 "cells": [
  {
   "cell_type": "code",
   "execution_count": null,
   "metadata": {},
   "outputs": [],
   "source": [
    "import pandas as pd\n",
    "import sys\n",
    "import os\n",
    "import seaborn as sns\n",
    "import holoviews as hv\n",
    "from IPython.core.display import display, HTML\n",
    "from holoviews import opts, dim, Palette\n",
    "\n",
    "hv.extension('bokeh')\n",
    "\n",
    "opts.defaults(\n",
    "    opts.Bars(xrotation=45, tools=['hover']),\n",
    "    opts.BoxWhisker(width=700, xrotation=30, box_fill_color=Palette('Category20')),\n",
    "    opts.Curve(width=700, tools=['hover']),\n",
    "    opts.GridSpace(shared_yaxis=True),\n",
    "    opts.Scatter(width=700, height=500, color=Palette('Category20'), size=dim('growth')+5, tools=['hover'],alpha=0.5, cmap='Set1'),\n",
    "    opts.NdOverlay(legend_position='left'))\n",
    "\n",
    "# Defines upper bound of ping for the network speed analysis.\n",
    "upper_acceptable_ping_bound = 10\n",
    "\n",
    "# Initializes the figures path in webpage for the diagram output\n",
    "if os.path.isdir(\"./webpage/figures\") == False:\n",
    "    os.mkdir(\"./webpage/figures\")\n",
    "    print(\"Path 'figures' created successfully\")\n",
    "else:\n",
    "    print(\"Path 'figures' initialized\")\n",
    "\n",
    "def numOutlierCount(attribute):\n",
    "    q25=attribute.quantile(0.25)\n",
    "    q75=attribute.quantile(0.75)\n",
    "    iqr=q75-q25\n",
    "    AnzahlMax=attribute[attribute>q75+1.5*iqr].count()\n",
    "    AnzahlMin=attribute[attribute<q25-1.5*iqr].count()\n",
    "    AnzahlAusreißerAbsolut=AnzahlMax+AnzahlMin\n",
    "    AnzahlAusreißerProzentual=AnzahlAusreißerAbsolut/attribute.count()\n",
    "    print(\"Ausreißer Absolut: \"+str(AnzahlAusreißerAbsolut))\n",
    "    print(\"Anzahl Ausreißer prozentual: \"+str(AnzahlAusreißerProzentual))\n",
    "    return(AnzahlAusreißerAbsolut)\n",
    "def inspect_outliers(df,attribute):\n",
    "    q25=attribute.quantile(0.25)\n",
    "    q75=attribute.quantile(0.75)\n",
    "    iqr=q75-q25\n",
    "    df_outliers_min=df[attribute<(q25-iqr*1.5)]\n",
    "    df_outliers_max = df[attribute>(q75+iqr*1.5)]\n",
    "    display(HTML(\"</br><h2>Min-Outliers</h2>\"))\n",
    "    display(HTML(df_outliers_min.to_html()))\n",
    "    display(HTML(\"<hr></br><h2>Max-Outliers</h2>\"))\n",
    "    display(HTML(df_outliers_max.to_html()))\n",
    "    \n",
    "# Data Import\n",
    "try:\n",
    "    df_ping = pd.read_csv(\"Data/ping_test.csv\",index_col=0)\n",
    "    df_speed_test = pd.read_csv(\"Data/speed_test.csv\", index_col=0)\n",
    "\n",
    "    df_ping[\"date\"] = pd.to_datetime(df_ping[\"date\"],format=\"%d.%m.%Y %H:%M:%S\")\n",
    "    df_speed_test[\"date\"] = pd.to_datetime(df_speed_test[\"date\"], format=\"%d.%m.%Y %H:%M:%S\")\n",
    "except:\n",
    "    print(\"Error while searching for files. Please perform network-test first.\")\n",
    "    sys.exit(0)"
   ]
  },
  {
   "cell_type": "markdown",
   "metadata": {},
   "source": [
    "# Basic Data Wrangling"
   ]
  },
  {
   "cell_type": "code",
   "execution_count": null,
   "metadata": {},
   "outputs": [],
   "source": [
    "print(df_ping.shape)\n",
    "df_ping.head()\n"
   ]
  },
  {
   "cell_type": "code",
   "execution_count": null,
   "metadata": {},
   "outputs": [],
   "source": [
    "print(df_speed_test.shape)\n",
    "df_speed_test.head()"
   ]
  },
  {
   "cell_type": "code",
   "execution_count": null,
   "metadata": {},
   "outputs": [],
   "source": [
    "df_speed_test[\"ping\"].max()\n",
    "\n"
   ]
  },
  {
   "cell_type": "code",
   "execution_count": null,
   "metadata": {},
   "outputs": [],
   "source": [
    "print(\n",
    "    \"The maximal Ping time has been {} ms.\\nThe minimal ping time has been {} ms. \\nThe mean ping time has been {} ms. \"\n",
    "    .format(df_ping[\"max\"].max(), df_ping[\"min\"].min(), df_ping[\"avg\"].mean()))"
   ]
  },
  {
   "cell_type": "code",
   "execution_count": null,
   "metadata": {},
   "outputs": [],
   "source": [
    "df_ping_issues = df_ping[df_ping[\"max\"]==99999]\n",
    "print(\"There are {} issues in the analysis of the network.\".format(df_ping_issues.shape[0]))\n",
    "\n",
    "# Filter issues from eg. sockets\n",
    "df_ping = df_ping[df_ping[\"max\"]!=99999]"
   ]
  },
  {
   "cell_type": "markdown",
   "metadata": {},
   "source": [
    " # Ping Times in ms with extreme outlieres"
   ]
  },
  {
   "cell_type": "code",
   "execution_count": null,
   "metadata": {},
   "outputs": [],
   "source": [
    "fig_all_max_ping = hv.Curve((df_ping[\"date\"], df_ping[\"max\"]),\n",
    "                            \"Date\",\n",
    "                            \"Ping in ms\",\n",
    "                            label=\"All messured pings\")\n",
    "fig_dot_over_upper_bound = hv.Scatter(\n",
    "    (df_ping[\"date\"][df_ping[\"max\"] > upper_acceptable_ping_bound],\n",
    "     df_ping[\"max\"][df_ping[\"max\"] > upper_acceptable_ping_bound]),\n",
    "    \"Date\",\n",
    "    \"Max_Ping_Time\",\n",
    "    label=\"Highlight pings over {} ms\".format(\n",
    "        str(upper_acceptable_ping_bound))).opts(opts.Scatter(color=\"red\", size=10))\n",
    "\n",
    "fig_ping_times_with_extreme_outliers = (fig_all_max_ping *\n",
    "                                        fig_dot_over_upper_bound).opts(\n",
    "                                            legend_position=\"top_left\",\n",
    "                                            title=\"All Max. Ping Times in ms\",padding=0.05)\n",
    "#Safe newly generated plot\n",
    "hv.save(fig_ping_times_with_extreme_outliers,\n",
    "        os.path.join(\"webpage\", \"figures\",\n",
    "                     \"fig_ping_times_with_extreme_outliers.html\"),\n",
    "        backend='bokeh')\n",
    "fig_ping_times_with_extreme_outliers"
   ]
  },
  {
   "cell_type": "code",
   "execution_count": null,
   "metadata": {},
   "outputs": [],
   "source": [
    "inspect_outliers(df_ping,df_ping[\"max\"])"
   ]
  },
  {
   "cell_type": "markdown",
   "metadata": {},
   "source": [
    "# Ping Times in ms without extreme outlieres"
   ]
  },
  {
   "cell_type": "code",
   "execution_count": null,
   "metadata": {},
   "outputs": [],
   "source": [
    "fig_ping_without_extreme_outliers = hv.Curve(\n",
    "    (df_ping[\"date\"][df_ping[\"max\"]<1000],\n",
    "     df_ping[\"max\"][df_ping[\"max\"]<1000]),\"Date\",\"Ping in ms\",label=\"All ping times less then 1000 ms\")\n",
    "\n",
    "fig_ping_highlight_max = hv.Scatter(\n",
    "         (df_ping[\"date\"][df_ping[\"max\"] > upper_acceptable_ping_bound][df_ping[\"max\"]<1000],\n",
    "          df_ping[\"max\"][df_ping[\"max\"] > upper_acceptable_ping_bound][df_ping[\"max\"]<1000]),\n",
    "         \"Date\",\n",
    "         \"Max_Ping_Time\",\n",
    "    label = \"Highlight pings over {} ms\".format(str(upper_acceptable_ping_bound))\n",
    "     ).opts(color=\"red\", size=10)\n",
    "\n",
    "fig_ping_times_without_extreme_outliers = (fig_ping_without_extreme_outliers*fig_ping_highlight_max).opts(title=\"All Max. Ping Times in ms without extreme outlieres\",\n",
    "                                                                                                         legend_position=\"top_left\",\n",
    "                                                                                                         padding = 0.05)\n",
    "\n",
    "#Safe newly generated plot\n",
    "hv.save(fig_ping_times_without_extreme_outliers, os.path.join(\"webpage\",\"figures\",\"fig_ping_times_without_extreme_outliers.html\") , backend='bokeh')\n",
    "fig_ping_times_without_extreme_outliers"
   ]
  },
  {
   "cell_type": "code",
   "execution_count": null,
   "metadata": {},
   "outputs": [],
   "source": [
    "# The latency bound under which network speedtest is performing is defined in the network_test.py\n",
    "acceptable_network_speed = 30000\n",
    "pingbound_network_test = df_speed_test[\"ping\"].min()\n",
    "\n",
    "fig_network_speed_below_pingbound = hv.Curve(\n",
    "    (df_speed_test[\"date\"], df_speed_test[\"downstream\"]),\n",
    "    \"Date\",\n",
    "    \"Downstream\",\n",
    "    label=\"Messured network speed when ping below {} ms\".format(\n",
    "        str(pingbound_network_test)))\n",
    "\n",
    "fig_highlight_below_accebtalbe_network_speed = hv.Scatter(\n",
    "    (df_speed_test[\"date\"][\n",
    "        df_speed_test[\"downstream\"] < acceptable_network_speed],\n",
    "     df_speed_test[\"downstream\"][\n",
    "         df_speed_test[\"downstream\"] < acceptable_network_speed]),\n",
    "    \"Date\",\n",
    "    \"Downstream\",\n",
    "    label=\"Highlight network speed below {} mbit/s\".format(\n",
    "        str(upper_acceptable_ping_bound))).opts(color=\"red\", size=10)\n",
    "\n",
    "fig_horizontal_marker = hv.HLine(\n",
    "    acceptable_network_speed,\n",
    "    label=\"Acceptable network speed at {} mbit/s\".format(\n",
    "        str(acceptable_network_speed))).opts(color=\"black\")\n",
    "\n",
    "fig_network_speeds_under_upper_bound = (\n",
    "    fig_network_speed_below_pingbound *\n",
    "    fig_highlight_below_accebtalbe_network_speed * fig_horizontal_marker\n",
    ").opts(\n",
    "    title=\"Network Speed when Ping below {} ms\".format(pingbound_network_test),\n",
    "    legend_position=\"top_left\",\n",
    "    padding=0.05)\n",
    "\n",
    "#Safe newly generated plot\n",
    "hv.save(fig_network_speeds_under_upper_bound,\n",
    "        os.path.join(\"webpage\", \"figures\",\n",
    "                     \"fig_network_speeds_under_upper_bound.html\"),\n",
    "        backend='bokeh')\n",
    "fig_network_speeds_under_upper_bound"
   ]
  },
  {
   "cell_type": "code",
   "execution_count": null,
   "metadata": {},
   "outputs": [],
   "source": [
    "df_ping[\"qcut\"] = pd.qcut(df_ping[\"avg\"],10)"
   ]
  },
  {
   "cell_type": "code",
   "execution_count": null,
   "metadata": {},
   "outputs": [],
   "source": [
    "df_ping.groupby(\"qcut\").agg({\"avg\":[\"count\"]}).reset_index()"
   ]
  },
  {
   "cell_type": "code",
   "execution_count": null,
   "metadata": {},
   "outputs": [],
   "source": []
  }
 ],
 "metadata": {
  "file_extension": ".py",
  "kernelspec": {
   "display_name": "Python 3",
   "language": "python",
   "name": "python3"
  },
  "language_info": {
   "codemirror_mode": {
    "name": "ipython",
    "version": 3
   },
   "file_extension": ".py",
   "mimetype": "text/x-python",
   "name": "python",
   "nbconvert_exporter": "python",
   "pygments_lexer": "ipython3",
   "version": "3.7.3"
  },
  "mimetype": "text/x-python",
  "name": "python",
  "npconvert_exporter": "python",
  "pygments_lexer": "ipython3",
  "toc": {
   "base_numbering": 1,
   "nav_menu": {},
   "number_sections": true,
   "sideBar": true,
   "skip_h1_title": false,
   "title_cell": "Table of Contents",
   "title_sidebar": "Contents",
   "toc_cell": false,
   "toc_position": {},
   "toc_section_display": true,
   "toc_window_display": false
  },
  "version": 3
 },
 "nbformat": 4,
 "nbformat_minor": 2
}
